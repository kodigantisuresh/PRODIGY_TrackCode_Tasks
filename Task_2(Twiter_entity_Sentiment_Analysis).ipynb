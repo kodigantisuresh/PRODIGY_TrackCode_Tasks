{
 "cells": [
  {
   "cell_type": "markdown",
   "id": "38012ac5",
   "metadata": {},
   "source": [
    "#### Step 1: Load the data..."
   ]
  },
  {
   "cell_type": "code",
   "execution_count": 1,
   "id": "b1c1312f",
   "metadata": {
    "ExecuteTime": {
     "end_time": "2024-08-07T05:49:53.647873Z",
     "start_time": "2024-08-07T05:49:50.255644Z"
    }
   },
   "outputs": [],
   "source": [
    "import pandas as pd\n",
    "import matplotlib.pyplot as plt\n",
    "import seaborn as sns"
   ]
  },
  {
   "cell_type": "code",
   "execution_count": 2,
   "id": "110869d6",
   "metadata": {
    "ExecuteTime": {
     "end_time": "2024-08-07T05:49:53.927507Z",
     "start_time": "2024-08-07T05:49:53.652552Z"
    }
   },
   "outputs": [],
   "source": [
    "train_df=pd.read_csv(r\"C:\\Users\\HP\\OneDrive\\Desktop\\DataSets\\archive\\twitter_training.csv\")\n",
    "val_df=pd.read_csv(r\"C:\\Users\\HP\\OneDrive\\Desktop\\DataSets\\archive\\twitter_validation.csv\")"
   ]
  },
  {
   "cell_type": "code",
   "execution_count": 3,
   "id": "b302b74a",
   "metadata": {
    "ExecuteTime": {
     "end_time": "2024-08-07T05:49:53.958515Z",
     "start_time": "2024-08-07T05:49:53.930516Z"
    }
   },
   "outputs": [
    {
     "data": {
      "text/html": [
       "<div>\n",
       "<style scoped>\n",
       "    .dataframe tbody tr th:only-of-type {\n",
       "        vertical-align: middle;\n",
       "    }\n",
       "\n",
       "    .dataframe tbody tr th {\n",
       "        vertical-align: top;\n",
       "    }\n",
       "\n",
       "    .dataframe thead th {\n",
       "        text-align: right;\n",
       "    }\n",
       "</style>\n",
       "<table border=\"1\" class=\"dataframe\">\n",
       "  <thead>\n",
       "    <tr style=\"text-align: right;\">\n",
       "      <th></th>\n",
       "      <th>2401</th>\n",
       "      <th>Borderlands</th>\n",
       "      <th>Positive</th>\n",
       "      <th>im getting on borderlands and i will murder you all ,</th>\n",
       "    </tr>\n",
       "  </thead>\n",
       "  <tbody>\n",
       "    <tr>\n",
       "      <th>0</th>\n",
       "      <td>2401</td>\n",
       "      <td>Borderlands</td>\n",
       "      <td>Positive</td>\n",
       "      <td>I am coming to the borders and I will kill you...</td>\n",
       "    </tr>\n",
       "    <tr>\n",
       "      <th>1</th>\n",
       "      <td>2401</td>\n",
       "      <td>Borderlands</td>\n",
       "      <td>Positive</td>\n",
       "      <td>im getting on borderlands and i will kill you ...</td>\n",
       "    </tr>\n",
       "    <tr>\n",
       "      <th>2</th>\n",
       "      <td>2401</td>\n",
       "      <td>Borderlands</td>\n",
       "      <td>Positive</td>\n",
       "      <td>im coming on borderlands and i will murder you...</td>\n",
       "    </tr>\n",
       "    <tr>\n",
       "      <th>3</th>\n",
       "      <td>2401</td>\n",
       "      <td>Borderlands</td>\n",
       "      <td>Positive</td>\n",
       "      <td>im getting on borderlands 2 and i will murder ...</td>\n",
       "    </tr>\n",
       "    <tr>\n",
       "      <th>4</th>\n",
       "      <td>2401</td>\n",
       "      <td>Borderlands</td>\n",
       "      <td>Positive</td>\n",
       "      <td>im getting into borderlands and i can murder y...</td>\n",
       "    </tr>\n",
       "  </tbody>\n",
       "</table>\n",
       "</div>"
      ],
      "text/plain": [
       "   2401  Borderlands  Positive  \\\n",
       "0  2401  Borderlands  Positive   \n",
       "1  2401  Borderlands  Positive   \n",
       "2  2401  Borderlands  Positive   \n",
       "3  2401  Borderlands  Positive   \n",
       "4  2401  Borderlands  Positive   \n",
       "\n",
       "  im getting on borderlands and i will murder you all ,  \n",
       "0  I am coming to the borders and I will kill you...     \n",
       "1  im getting on borderlands and i will kill you ...     \n",
       "2  im coming on borderlands and i will murder you...     \n",
       "3  im getting on borderlands 2 and i will murder ...     \n",
       "4  im getting into borderlands and i can murder y...     "
      ]
     },
     "execution_count": 3,
     "metadata": {},
     "output_type": "execute_result"
    }
   ],
   "source": [
    "train_df.head()"
   ]
  },
  {
   "cell_type": "code",
   "execution_count": 4,
   "id": "5741882a",
   "metadata": {
    "ExecuteTime": {
     "end_time": "2024-08-07T05:49:53.989201Z",
     "start_time": "2024-08-07T05:49:53.962446Z"
    }
   },
   "outputs": [
    {
     "data": {
      "text/html": [
       "<div>\n",
       "<style scoped>\n",
       "    .dataframe tbody tr th:only-of-type {\n",
       "        vertical-align: middle;\n",
       "    }\n",
       "\n",
       "    .dataframe tbody tr th {\n",
       "        vertical-align: top;\n",
       "    }\n",
       "\n",
       "    .dataframe thead th {\n",
       "        text-align: right;\n",
       "    }\n",
       "</style>\n",
       "<table border=\"1\" class=\"dataframe\">\n",
       "  <thead>\n",
       "    <tr style=\"text-align: right;\">\n",
       "      <th></th>\n",
       "      <th>3364</th>\n",
       "      <th>Facebook</th>\n",
       "      <th>Irrelevant</th>\n",
       "      <th>I mentioned on Facebook that I was struggling for motivation to go for a run the other day, which has been translated by Tom’s great auntie as ‘Hayley can’t get out of bed’ and told to his grandma, who now thinks I’m a lazy, terrible person 🤣</th>\n",
       "    </tr>\n",
       "  </thead>\n",
       "  <tbody>\n",
       "    <tr>\n",
       "      <th>0</th>\n",
       "      <td>352</td>\n",
       "      <td>Amazon</td>\n",
       "      <td>Neutral</td>\n",
       "      <td>BBC News - Amazon boss Jeff Bezos rejects clai...</td>\n",
       "    </tr>\n",
       "    <tr>\n",
       "      <th>1</th>\n",
       "      <td>8312</td>\n",
       "      <td>Microsoft</td>\n",
       "      <td>Negative</td>\n",
       "      <td>@Microsoft Why do I pay for WORD when it funct...</td>\n",
       "    </tr>\n",
       "    <tr>\n",
       "      <th>2</th>\n",
       "      <td>4371</td>\n",
       "      <td>CS-GO</td>\n",
       "      <td>Negative</td>\n",
       "      <td>CSGO matchmaking is so full of closet hacking,...</td>\n",
       "    </tr>\n",
       "    <tr>\n",
       "      <th>3</th>\n",
       "      <td>4433</td>\n",
       "      <td>Google</td>\n",
       "      <td>Neutral</td>\n",
       "      <td>Now the President is slapping Americans in the...</td>\n",
       "    </tr>\n",
       "    <tr>\n",
       "      <th>4</th>\n",
       "      <td>6273</td>\n",
       "      <td>FIFA</td>\n",
       "      <td>Negative</td>\n",
       "      <td>Hi @EAHelp I’ve had Madeleine McCann in my cel...</td>\n",
       "    </tr>\n",
       "  </tbody>\n",
       "</table>\n",
       "</div>"
      ],
      "text/plain": [
       "   3364   Facebook Irrelevant  \\\n",
       "0   352     Amazon    Neutral   \n",
       "1  8312  Microsoft   Negative   \n",
       "2  4371      CS-GO   Negative   \n",
       "3  4433     Google    Neutral   \n",
       "4  6273       FIFA   Negative   \n",
       "\n",
       "  I mentioned on Facebook that I was struggling for motivation to go for a run the other day, which has been translated by Tom’s great auntie as ‘Hayley can’t get out of bed’ and told to his grandma, who now thinks I’m a lazy, terrible person 🤣  \n",
       "0  BBC News - Amazon boss Jeff Bezos rejects clai...                                                                                                                                                                                                  \n",
       "1  @Microsoft Why do I pay for WORD when it funct...                                                                                                                                                                                                  \n",
       "2  CSGO matchmaking is so full of closet hacking,...                                                                                                                                                                                                  \n",
       "3  Now the President is slapping Americans in the...                                                                                                                                                                                                  \n",
       "4  Hi @EAHelp I’ve had Madeleine McCann in my cel...                                                                                                                                                                                                  "
      ]
     },
     "execution_count": 4,
     "metadata": {},
     "output_type": "execute_result"
    }
   ],
   "source": [
    "val_df.head()"
   ]
  },
  {
   "cell_type": "code",
   "execution_count": 5,
   "id": "bc2221b1",
   "metadata": {
    "ExecuteTime": {
     "end_time": "2024-08-07T05:49:54.004833Z",
     "start_time": "2024-08-07T05:49:53.992399Z"
    }
   },
   "outputs": [],
   "source": [
    "# Renaming column names both training validation data sets\n",
    "train_df.columns = ['id', 'entity', 'sentiment', 'text']\n",
    "val_df.columns = ['id', 'entity', 'sentiment', 'text']"
   ]
  },
  {
   "cell_type": "code",
   "execution_count": 6,
   "id": "5459752d",
   "metadata": {
    "ExecuteTime": {
     "end_time": "2024-08-07T05:49:54.020484Z",
     "start_time": "2024-08-07T05:49:54.008164Z"
    }
   },
   "outputs": [
    {
     "data": {
      "text/html": [
       "<div>\n",
       "<style scoped>\n",
       "    .dataframe tbody tr th:only-of-type {\n",
       "        vertical-align: middle;\n",
       "    }\n",
       "\n",
       "    .dataframe tbody tr th {\n",
       "        vertical-align: top;\n",
       "    }\n",
       "\n",
       "    .dataframe thead th {\n",
       "        text-align: right;\n",
       "    }\n",
       "</style>\n",
       "<table border=\"1\" class=\"dataframe\">\n",
       "  <thead>\n",
       "    <tr style=\"text-align: right;\">\n",
       "      <th></th>\n",
       "      <th>id</th>\n",
       "      <th>entity</th>\n",
       "      <th>sentiment</th>\n",
       "      <th>text</th>\n",
       "    </tr>\n",
       "  </thead>\n",
       "  <tbody>\n",
       "    <tr>\n",
       "      <th>0</th>\n",
       "      <td>2401</td>\n",
       "      <td>Borderlands</td>\n",
       "      <td>Positive</td>\n",
       "      <td>I am coming to the borders and I will kill you...</td>\n",
       "    </tr>\n",
       "    <tr>\n",
       "      <th>1</th>\n",
       "      <td>2401</td>\n",
       "      <td>Borderlands</td>\n",
       "      <td>Positive</td>\n",
       "      <td>im getting on borderlands and i will kill you ...</td>\n",
       "    </tr>\n",
       "    <tr>\n",
       "      <th>2</th>\n",
       "      <td>2401</td>\n",
       "      <td>Borderlands</td>\n",
       "      <td>Positive</td>\n",
       "      <td>im coming on borderlands and i will murder you...</td>\n",
       "    </tr>\n",
       "    <tr>\n",
       "      <th>3</th>\n",
       "      <td>2401</td>\n",
       "      <td>Borderlands</td>\n",
       "      <td>Positive</td>\n",
       "      <td>im getting on borderlands 2 and i will murder ...</td>\n",
       "    </tr>\n",
       "    <tr>\n",
       "      <th>4</th>\n",
       "      <td>2401</td>\n",
       "      <td>Borderlands</td>\n",
       "      <td>Positive</td>\n",
       "      <td>im getting into borderlands and i can murder y...</td>\n",
       "    </tr>\n",
       "  </tbody>\n",
       "</table>\n",
       "</div>"
      ],
      "text/plain": [
       "     id       entity sentiment  \\\n",
       "0  2401  Borderlands  Positive   \n",
       "1  2401  Borderlands  Positive   \n",
       "2  2401  Borderlands  Positive   \n",
       "3  2401  Borderlands  Positive   \n",
       "4  2401  Borderlands  Positive   \n",
       "\n",
       "                                                text  \n",
       "0  I am coming to the borders and I will kill you...  \n",
       "1  im getting on borderlands and i will kill you ...  \n",
       "2  im coming on borderlands and i will murder you...  \n",
       "3  im getting on borderlands 2 and i will murder ...  \n",
       "4  im getting into borderlands and i can murder y...  "
      ]
     },
     "execution_count": 6,
     "metadata": {},
     "output_type": "execute_result"
    }
   ],
   "source": [
    "train_df.head()"
   ]
  },
  {
   "cell_type": "code",
   "execution_count": 7,
   "id": "2ca27104",
   "metadata": {
    "ExecuteTime": {
     "end_time": "2024-08-07T05:49:54.035662Z",
     "start_time": "2024-08-07T05:49:54.023754Z"
    }
   },
   "outputs": [
    {
     "data": {
      "text/html": [
       "<div>\n",
       "<style scoped>\n",
       "    .dataframe tbody tr th:only-of-type {\n",
       "        vertical-align: middle;\n",
       "    }\n",
       "\n",
       "    .dataframe tbody tr th {\n",
       "        vertical-align: top;\n",
       "    }\n",
       "\n",
       "    .dataframe thead th {\n",
       "        text-align: right;\n",
       "    }\n",
       "</style>\n",
       "<table border=\"1\" class=\"dataframe\">\n",
       "  <thead>\n",
       "    <tr style=\"text-align: right;\">\n",
       "      <th></th>\n",
       "      <th>id</th>\n",
       "      <th>entity</th>\n",
       "      <th>sentiment</th>\n",
       "      <th>text</th>\n",
       "    </tr>\n",
       "  </thead>\n",
       "  <tbody>\n",
       "    <tr>\n",
       "      <th>0</th>\n",
       "      <td>352</td>\n",
       "      <td>Amazon</td>\n",
       "      <td>Neutral</td>\n",
       "      <td>BBC News - Amazon boss Jeff Bezos rejects clai...</td>\n",
       "    </tr>\n",
       "    <tr>\n",
       "      <th>1</th>\n",
       "      <td>8312</td>\n",
       "      <td>Microsoft</td>\n",
       "      <td>Negative</td>\n",
       "      <td>@Microsoft Why do I pay for WORD when it funct...</td>\n",
       "    </tr>\n",
       "    <tr>\n",
       "      <th>2</th>\n",
       "      <td>4371</td>\n",
       "      <td>CS-GO</td>\n",
       "      <td>Negative</td>\n",
       "      <td>CSGO matchmaking is so full of closet hacking,...</td>\n",
       "    </tr>\n",
       "    <tr>\n",
       "      <th>3</th>\n",
       "      <td>4433</td>\n",
       "      <td>Google</td>\n",
       "      <td>Neutral</td>\n",
       "      <td>Now the President is slapping Americans in the...</td>\n",
       "    </tr>\n",
       "    <tr>\n",
       "      <th>4</th>\n",
       "      <td>6273</td>\n",
       "      <td>FIFA</td>\n",
       "      <td>Negative</td>\n",
       "      <td>Hi @EAHelp I’ve had Madeleine McCann in my cel...</td>\n",
       "    </tr>\n",
       "  </tbody>\n",
       "</table>\n",
       "</div>"
      ],
      "text/plain": [
       "     id     entity sentiment  \\\n",
       "0   352     Amazon   Neutral   \n",
       "1  8312  Microsoft  Negative   \n",
       "2  4371      CS-GO  Negative   \n",
       "3  4433     Google   Neutral   \n",
       "4  6273       FIFA  Negative   \n",
       "\n",
       "                                                text  \n",
       "0  BBC News - Amazon boss Jeff Bezos rejects clai...  \n",
       "1  @Microsoft Why do I pay for WORD when it funct...  \n",
       "2  CSGO matchmaking is so full of closet hacking,...  \n",
       "3  Now the President is slapping Americans in the...  \n",
       "4  Hi @EAHelp I’ve had Madeleine McCann in my cel...  "
      ]
     },
     "execution_count": 7,
     "metadata": {},
     "output_type": "execute_result"
    }
   ],
   "source": [
    "val_df.head()"
   ]
  },
  {
   "cell_type": "markdown",
   "id": "bbb1a517",
   "metadata": {},
   "source": [
    "##### Step 2: Incpect the data..."
   ]
  },
  {
   "cell_type": "code",
   "execution_count": 8,
   "id": "1615b1c7",
   "metadata": {
    "ExecuteTime": {
     "end_time": "2024-08-07T05:49:54.097955Z",
     "start_time": "2024-08-07T05:49:54.038882Z"
    }
   },
   "outputs": [
    {
     "name": "stdout",
     "output_type": "stream",
     "text": [
      "<class 'pandas.core.frame.DataFrame'>\n",
      "RangeIndex: 74681 entries, 0 to 74680\n",
      "Data columns (total 4 columns):\n",
      " #   Column     Non-Null Count  Dtype \n",
      "---  ------     --------------  ----- \n",
      " 0   id         74681 non-null  int64 \n",
      " 1   entity     74681 non-null  object\n",
      " 2   sentiment  74681 non-null  object\n",
      " 3   text       73995 non-null  object\n",
      "dtypes: int64(1), object(3)\n",
      "memory usage: 2.3+ MB\n"
     ]
    }
   ],
   "source": [
    "# Check for missing values and data types in the training dataset\n",
    "train_df.info()"
   ]
  },
  {
   "cell_type": "code",
   "execution_count": 9,
   "id": "5094770c",
   "metadata": {
    "ExecuteTime": {
     "end_time": "2024-08-07T05:49:54.113581Z",
     "start_time": "2024-08-07T05:49:54.100372Z"
    }
   },
   "outputs": [
    {
     "name": "stdout",
     "output_type": "stream",
     "text": [
      "<class 'pandas.core.frame.DataFrame'>\n",
      "RangeIndex: 999 entries, 0 to 998\n",
      "Data columns (total 4 columns):\n",
      " #   Column     Non-Null Count  Dtype \n",
      "---  ------     --------------  ----- \n",
      " 0   id         999 non-null    int64 \n",
      " 1   entity     999 non-null    object\n",
      " 2   sentiment  999 non-null    object\n",
      " 3   text       999 non-null    object\n",
      "dtypes: int64(1), object(3)\n",
      "memory usage: 31.3+ KB\n"
     ]
    }
   ],
   "source": [
    "# Check for missing values and data types in the validation dataset\n",
    "val_df.info()"
   ]
  },
  {
   "cell_type": "code",
   "execution_count": 10,
   "id": "c972322d",
   "metadata": {
    "ExecuteTime": {
     "end_time": "2024-08-07T05:49:54.207270Z",
     "start_time": "2024-08-07T05:49:54.119683Z"
    }
   },
   "outputs": [
    {
     "data": {
      "text/html": [
       "<div>\n",
       "<style scoped>\n",
       "    .dataframe tbody tr th:only-of-type {\n",
       "        vertical-align: middle;\n",
       "    }\n",
       "\n",
       "    .dataframe tbody tr th {\n",
       "        vertical-align: top;\n",
       "    }\n",
       "\n",
       "    .dataframe thead th {\n",
       "        text-align: right;\n",
       "    }\n",
       "</style>\n",
       "<table border=\"1\" class=\"dataframe\">\n",
       "  <thead>\n",
       "    <tr style=\"text-align: right;\">\n",
       "      <th></th>\n",
       "      <th>id</th>\n",
       "      <th>entity</th>\n",
       "      <th>sentiment</th>\n",
       "      <th>text</th>\n",
       "    </tr>\n",
       "  </thead>\n",
       "  <tbody>\n",
       "    <tr>\n",
       "      <th>count</th>\n",
       "      <td>74681.000000</td>\n",
       "      <td>74681</td>\n",
       "      <td>74681</td>\n",
       "      <td>73995</td>\n",
       "    </tr>\n",
       "    <tr>\n",
       "      <th>unique</th>\n",
       "      <td>NaN</td>\n",
       "      <td>32</td>\n",
       "      <td>4</td>\n",
       "      <td>69490</td>\n",
       "    </tr>\n",
       "    <tr>\n",
       "      <th>top</th>\n",
       "      <td>NaN</td>\n",
       "      <td>TomClancysRainbowSix</td>\n",
       "      <td>Negative</td>\n",
       "      <td></td>\n",
       "    </tr>\n",
       "    <tr>\n",
       "      <th>freq</th>\n",
       "      <td>NaN</td>\n",
       "      <td>2400</td>\n",
       "      <td>22542</td>\n",
       "      <td>172</td>\n",
       "    </tr>\n",
       "    <tr>\n",
       "      <th>mean</th>\n",
       "      <td>6432.640149</td>\n",
       "      <td>NaN</td>\n",
       "      <td>NaN</td>\n",
       "      <td>NaN</td>\n",
       "    </tr>\n",
       "    <tr>\n",
       "      <th>std</th>\n",
       "      <td>3740.423819</td>\n",
       "      <td>NaN</td>\n",
       "      <td>NaN</td>\n",
       "      <td>NaN</td>\n",
       "    </tr>\n",
       "    <tr>\n",
       "      <th>min</th>\n",
       "      <td>1.000000</td>\n",
       "      <td>NaN</td>\n",
       "      <td>NaN</td>\n",
       "      <td>NaN</td>\n",
       "    </tr>\n",
       "    <tr>\n",
       "      <th>25%</th>\n",
       "      <td>3195.000000</td>\n",
       "      <td>NaN</td>\n",
       "      <td>NaN</td>\n",
       "      <td>NaN</td>\n",
       "    </tr>\n",
       "    <tr>\n",
       "      <th>50%</th>\n",
       "      <td>6422.000000</td>\n",
       "      <td>NaN</td>\n",
       "      <td>NaN</td>\n",
       "      <td>NaN</td>\n",
       "    </tr>\n",
       "    <tr>\n",
       "      <th>75%</th>\n",
       "      <td>9601.000000</td>\n",
       "      <td>NaN</td>\n",
       "      <td>NaN</td>\n",
       "      <td>NaN</td>\n",
       "    </tr>\n",
       "    <tr>\n",
       "      <th>max</th>\n",
       "      <td>13200.000000</td>\n",
       "      <td>NaN</td>\n",
       "      <td>NaN</td>\n",
       "      <td>NaN</td>\n",
       "    </tr>\n",
       "  </tbody>\n",
       "</table>\n",
       "</div>"
      ],
      "text/plain": [
       "                  id                entity sentiment   text\n",
       "count   74681.000000                 74681     74681  73995\n",
       "unique           NaN                    32         4  69490\n",
       "top              NaN  TomClancysRainbowSix  Negative       \n",
       "freq             NaN                  2400     22542    172\n",
       "mean     6432.640149                   NaN       NaN    NaN\n",
       "std      3740.423819                   NaN       NaN    NaN\n",
       "min         1.000000                   NaN       NaN    NaN\n",
       "25%      3195.000000                   NaN       NaN    NaN\n",
       "50%      6422.000000                   NaN       NaN    NaN\n",
       "75%      9601.000000                   NaN       NaN    NaN\n",
       "max     13200.000000                   NaN       NaN    NaN"
      ]
     },
     "execution_count": 10,
     "metadata": {},
     "output_type": "execute_result"
    }
   ],
   "source": [
    "# Summary statistics for the training dataset\n",
    "train_df.describe(include='all')"
   ]
  },
  {
   "cell_type": "code",
   "execution_count": 11,
   "id": "0c2c02ff",
   "metadata": {
    "ExecuteTime": {
     "end_time": "2024-08-07T05:49:54.238201Z",
     "start_time": "2024-08-07T05:49:54.211272Z"
    }
   },
   "outputs": [
    {
     "data": {
      "text/html": [
       "<div>\n",
       "<style scoped>\n",
       "    .dataframe tbody tr th:only-of-type {\n",
       "        vertical-align: middle;\n",
       "    }\n",
       "\n",
       "    .dataframe tbody tr th {\n",
       "        vertical-align: top;\n",
       "    }\n",
       "\n",
       "    .dataframe thead th {\n",
       "        text-align: right;\n",
       "    }\n",
       "</style>\n",
       "<table border=\"1\" class=\"dataframe\">\n",
       "  <thead>\n",
       "    <tr style=\"text-align: right;\">\n",
       "      <th></th>\n",
       "      <th>id</th>\n",
       "      <th>entity</th>\n",
       "      <th>sentiment</th>\n",
       "      <th>text</th>\n",
       "    </tr>\n",
       "  </thead>\n",
       "  <tbody>\n",
       "    <tr>\n",
       "      <th>count</th>\n",
       "      <td>999.000000</td>\n",
       "      <td>999</td>\n",
       "      <td>999</td>\n",
       "      <td>999</td>\n",
       "    </tr>\n",
       "    <tr>\n",
       "      <th>unique</th>\n",
       "      <td>NaN</td>\n",
       "      <td>32</td>\n",
       "      <td>4</td>\n",
       "      <td>998</td>\n",
       "    </tr>\n",
       "    <tr>\n",
       "      <th>top</th>\n",
       "      <td>NaN</td>\n",
       "      <td>RedDeadRedemption(RDR)</td>\n",
       "      <td>Neutral</td>\n",
       "      <td>Wow</td>\n",
       "    </tr>\n",
       "    <tr>\n",
       "      <th>freq</th>\n",
       "      <td>NaN</td>\n",
       "      <td>40</td>\n",
       "      <td>285</td>\n",
       "      <td>2</td>\n",
       "    </tr>\n",
       "    <tr>\n",
       "      <th>mean</th>\n",
       "      <td>6435.159159</td>\n",
       "      <td>NaN</td>\n",
       "      <td>NaN</td>\n",
       "      <td>NaN</td>\n",
       "    </tr>\n",
       "    <tr>\n",
       "      <th>std</th>\n",
       "      <td>3728.912226</td>\n",
       "      <td>NaN</td>\n",
       "      <td>NaN</td>\n",
       "      <td>NaN</td>\n",
       "    </tr>\n",
       "    <tr>\n",
       "      <th>min</th>\n",
       "      <td>6.000000</td>\n",
       "      <td>NaN</td>\n",
       "      <td>NaN</td>\n",
       "      <td>NaN</td>\n",
       "    </tr>\n",
       "    <tr>\n",
       "      <th>25%</th>\n",
       "      <td>3241.500000</td>\n",
       "      <td>NaN</td>\n",
       "      <td>NaN</td>\n",
       "      <td>NaN</td>\n",
       "    </tr>\n",
       "    <tr>\n",
       "      <th>50%</th>\n",
       "      <td>6560.000000</td>\n",
       "      <td>NaN</td>\n",
       "      <td>NaN</td>\n",
       "      <td>NaN</td>\n",
       "    </tr>\n",
       "    <tr>\n",
       "      <th>75%</th>\n",
       "      <td>9662.500000</td>\n",
       "      <td>NaN</td>\n",
       "      <td>NaN</td>\n",
       "      <td>NaN</td>\n",
       "    </tr>\n",
       "    <tr>\n",
       "      <th>max</th>\n",
       "      <td>13197.000000</td>\n",
       "      <td>NaN</td>\n",
       "      <td>NaN</td>\n",
       "      <td>NaN</td>\n",
       "    </tr>\n",
       "  </tbody>\n",
       "</table>\n",
       "</div>"
      ],
      "text/plain": [
       "                  id                  entity sentiment text\n",
       "count     999.000000                     999       999  999\n",
       "unique           NaN                      32         4  998\n",
       "top              NaN  RedDeadRedemption(RDR)   Neutral  Wow\n",
       "freq             NaN                      40       285    2\n",
       "mean     6435.159159                     NaN       NaN  NaN\n",
       "std      3728.912226                     NaN       NaN  NaN\n",
       "min         6.000000                     NaN       NaN  NaN\n",
       "25%      3241.500000                     NaN       NaN  NaN\n",
       "50%      6560.000000                     NaN       NaN  NaN\n",
       "75%      9662.500000                     NaN       NaN  NaN\n",
       "max     13197.000000                     NaN       NaN  NaN"
      ]
     },
     "execution_count": 11,
     "metadata": {},
     "output_type": "execute_result"
    }
   ],
   "source": [
    "# Summary statistics for the validation dataset\n",
    "val_df.describe(include='all')"
   ]
  },
  {
   "cell_type": "markdown",
   "id": "b21bdce6",
   "metadata": {},
   "source": [
    "##### Step 3: Preproces the data...\n",
    "We'll clean the text data and handle any missing values if necessary."
   ]
  },
  {
   "cell_type": "code",
   "execution_count": 12,
   "id": "f75eeacf",
   "metadata": {
    "ExecuteTime": {
     "end_time": "2024-08-07T05:49:55.739327Z",
     "start_time": "2024-08-07T05:49:54.241348Z"
    }
   },
   "outputs": [
    {
     "name": "stderr",
     "output_type": "stream",
     "text": [
      "[nltk_data] Downloading package stopwords to\n",
      "[nltk_data]     C:\\Users\\HP\\AppData\\Roaming\\nltk_data...\n",
      "[nltk_data]   Package stopwords is already up-to-date!\n"
     ]
    },
    {
     "data": {
      "text/plain": [
       "True"
      ]
     },
     "execution_count": 12,
     "metadata": {},
     "output_type": "execute_result"
    }
   ],
   "source": [
    "import re\n",
    "import nltk\n",
    "from nltk.corpus import stopwords\n",
    "\n",
    "# Download stopwords if not already downloaded\n",
    "nltk.download('stopwords')"
   ]
  },
  {
   "cell_type": "code",
   "execution_count": 13,
   "id": "cb478dd6",
   "metadata": {
    "ExecuteTime": {
     "end_time": "2024-08-07T05:50:24.577558Z",
     "start_time": "2024-08-07T05:49:55.742332Z"
    }
   },
   "outputs": [
    {
     "data": {
      "text/html": [
       "<div>\n",
       "<style scoped>\n",
       "    .dataframe tbody tr th:only-of-type {\n",
       "        vertical-align: middle;\n",
       "    }\n",
       "\n",
       "    .dataframe tbody tr th {\n",
       "        vertical-align: top;\n",
       "    }\n",
       "\n",
       "    .dataframe thead th {\n",
       "        text-align: right;\n",
       "    }\n",
       "</style>\n",
       "<table border=\"1\" class=\"dataframe\">\n",
       "  <thead>\n",
       "    <tr style=\"text-align: right;\">\n",
       "      <th></th>\n",
       "      <th>text</th>\n",
       "      <th>clean_text</th>\n",
       "    </tr>\n",
       "  </thead>\n",
       "  <tbody>\n",
       "    <tr>\n",
       "      <th>0</th>\n",
       "      <td>I am coming to the borders and I will kill you...</td>\n",
       "      <td>coming borders kill</td>\n",
       "    </tr>\n",
       "    <tr>\n",
       "      <th>1</th>\n",
       "      <td>im getting on borderlands and i will kill you ...</td>\n",
       "      <td>im getting borderlands kill</td>\n",
       "    </tr>\n",
       "    <tr>\n",
       "      <th>2</th>\n",
       "      <td>im coming on borderlands and i will murder you...</td>\n",
       "      <td>im coming borderlands murder</td>\n",
       "    </tr>\n",
       "    <tr>\n",
       "      <th>3</th>\n",
       "      <td>im getting on borderlands 2 and i will murder ...</td>\n",
       "      <td>im getting borderlands murder</td>\n",
       "    </tr>\n",
       "    <tr>\n",
       "      <th>4</th>\n",
       "      <td>im getting into borderlands and i can murder y...</td>\n",
       "      <td>im getting borderlands murder</td>\n",
       "    </tr>\n",
       "  </tbody>\n",
       "</table>\n",
       "</div>"
      ],
      "text/plain": [
       "                                                text  \\\n",
       "0  I am coming to the borders and I will kill you...   \n",
       "1  im getting on borderlands and i will kill you ...   \n",
       "2  im coming on borderlands and i will murder you...   \n",
       "3  im getting on borderlands 2 and i will murder ...   \n",
       "4  im getting into borderlands and i can murder y...   \n",
       "\n",
       "                      clean_text  \n",
       "0            coming borders kill  \n",
       "1    im getting borderlands kill  \n",
       "2   im coming borderlands murder  \n",
       "3  im getting borderlands murder  \n",
       "4  im getting borderlands murder  "
      ]
     },
     "execution_count": 13,
     "metadata": {},
     "output_type": "execute_result"
    }
   ],
   "source": [
    "# Define a function to clean the text using Natural Language Procesing(NLP) techniques\n",
    "def clean_text(text):\n",
    "    if not isinstance(text, str):\n",
    "        return \"\"\n",
    "    \n",
    "    text = re.sub(r'http\\S+', '', text)                # Remove URLs\n",
    "    text = re.sub(r'@\\w+|#', '', text)                 # Remove mentions and hashtags\n",
    "    text = re.sub(r'[^A-Za-z\\s]', '', text)            # Remove special characters and numbers\n",
    "    text = text.lower()                                # Convert uppercase to lowercase\n",
    "    stop_words = set(stopwords.words('english'))       # Remove stopwords\n",
    "    \n",
    "    text = ' '.join(word for word in text.split() if word not in stop_words)\n",
    "    return text\n",
    "\n",
    "# Apply the cleaning function to the text column in both datasets\n",
    "train_df['clean_text'] = train_df['text'].apply(clean_text)\n",
    "val_df['clean_text'] = val_df['text'].apply(clean_text)\n",
    "\n",
    "train_df[['text', 'clean_text']].head()\n"
   ]
  },
  {
   "cell_type": "code",
   "execution_count": 14,
   "id": "b2789689",
   "metadata": {
    "ExecuteTime": {
     "end_time": "2024-08-07T05:50:24.610356Z",
     "start_time": "2024-08-07T05:50:24.581548Z"
    }
   },
   "outputs": [
    {
     "data": {
      "text/html": [
       "<div>\n",
       "<style scoped>\n",
       "    .dataframe tbody tr th:only-of-type {\n",
       "        vertical-align: middle;\n",
       "    }\n",
       "\n",
       "    .dataframe tbody tr th {\n",
       "        vertical-align: top;\n",
       "    }\n",
       "\n",
       "    .dataframe thead th {\n",
       "        text-align: right;\n",
       "    }\n",
       "</style>\n",
       "<table border=\"1\" class=\"dataframe\">\n",
       "  <thead>\n",
       "    <tr style=\"text-align: right;\">\n",
       "      <th></th>\n",
       "      <th>text</th>\n",
       "      <th>clean_text</th>\n",
       "    </tr>\n",
       "  </thead>\n",
       "  <tbody>\n",
       "    <tr>\n",
       "      <th>0</th>\n",
       "      <td>BBC News - Amazon boss Jeff Bezos rejects clai...</td>\n",
       "      <td>bbc news amazon boss jeff bezos rejects claims...</td>\n",
       "    </tr>\n",
       "    <tr>\n",
       "      <th>1</th>\n",
       "      <td>@Microsoft Why do I pay for WORD when it funct...</td>\n",
       "      <td>pay word functions poorly chromebook</td>\n",
       "    </tr>\n",
       "    <tr>\n",
       "      <th>2</th>\n",
       "      <td>CSGO matchmaking is so full of closet hacking,...</td>\n",
       "      <td>csgo matchmaking full closet hacking truly awf...</td>\n",
       "    </tr>\n",
       "    <tr>\n",
       "      <th>3</th>\n",
       "      <td>Now the President is slapping Americans in the...</td>\n",
       "      <td>president slapping americans face really commi...</td>\n",
       "    </tr>\n",
       "    <tr>\n",
       "      <th>4</th>\n",
       "      <td>Hi @EAHelp I’ve had Madeleine McCann in my cel...</td>\n",
       "      <td>hi ive madeleine mccann cellar past years litt...</td>\n",
       "    </tr>\n",
       "  </tbody>\n",
       "</table>\n",
       "</div>"
      ],
      "text/plain": [
       "                                                text  \\\n",
       "0  BBC News - Amazon boss Jeff Bezos rejects clai...   \n",
       "1  @Microsoft Why do I pay for WORD when it funct...   \n",
       "2  CSGO matchmaking is so full of closet hacking,...   \n",
       "3  Now the President is slapping Americans in the...   \n",
       "4  Hi @EAHelp I’ve had Madeleine McCann in my cel...   \n",
       "\n",
       "                                          clean_text  \n",
       "0  bbc news amazon boss jeff bezos rejects claims...  \n",
       "1               pay word functions poorly chromebook  \n",
       "2  csgo matchmaking full closet hacking truly awf...  \n",
       "3  president slapping americans face really commi...  \n",
       "4  hi ive madeleine mccann cellar past years litt...  "
      ]
     },
     "execution_count": 14,
     "metadata": {},
     "output_type": "execute_result"
    }
   ],
   "source": [
    "val_df[['text', 'clean_text']].head()"
   ]
  },
  {
   "cell_type": "markdown",
   "id": "00d0a392",
   "metadata": {},
   "source": [
    "##### Step 3: Sentiment Analysis...\n",
    "We'll use a pre-trained model or library for sentiment analysis. Here, we'll use the VADER sentiment analyzer from the nltk library."
   ]
  },
  {
   "cell_type": "code",
   "execution_count": 15,
   "id": "0c360c77",
   "metadata": {
    "ExecuteTime": {
     "end_time": "2024-08-07T05:50:38.792579Z",
     "start_time": "2024-08-07T05:50:24.616920Z"
    }
   },
   "outputs": [
    {
     "name": "stdout",
     "output_type": "stream",
     "text": [
      "Training Data with Sentiment Scores:\n"
     ]
    },
    {
     "data": {
      "text/html": [
       "<div>\n",
       "<style scoped>\n",
       "    .dataframe tbody tr th:only-of-type {\n",
       "        vertical-align: middle;\n",
       "    }\n",
       "\n",
       "    .dataframe tbody tr th {\n",
       "        vertical-align: top;\n",
       "    }\n",
       "\n",
       "    .dataframe thead th {\n",
       "        text-align: right;\n",
       "    }\n",
       "</style>\n",
       "<table border=\"1\" class=\"dataframe\">\n",
       "  <thead>\n",
       "    <tr style=\"text-align: right;\">\n",
       "      <th></th>\n",
       "      <th>text</th>\n",
       "      <th>clean_text</th>\n",
       "      <th>sentiment_score</th>\n",
       "      <th>sentiment_category</th>\n",
       "    </tr>\n",
       "  </thead>\n",
       "  <tbody>\n",
       "    <tr>\n",
       "      <th>0</th>\n",
       "      <td>I am coming to the borders and I will kill you...</td>\n",
       "      <td>coming borders kill</td>\n",
       "      <td>-0.6908</td>\n",
       "      <td>negative</td>\n",
       "    </tr>\n",
       "    <tr>\n",
       "      <th>1</th>\n",
       "      <td>im getting on borderlands and i will kill you ...</td>\n",
       "      <td>im getting borderlands kill</td>\n",
       "      <td>-0.6908</td>\n",
       "      <td>negative</td>\n",
       "    </tr>\n",
       "    <tr>\n",
       "      <th>2</th>\n",
       "      <td>im coming on borderlands and i will murder you...</td>\n",
       "      <td>im coming borderlands murder</td>\n",
       "      <td>-0.6908</td>\n",
       "      <td>negative</td>\n",
       "    </tr>\n",
       "    <tr>\n",
       "      <th>3</th>\n",
       "      <td>im getting on borderlands 2 and i will murder ...</td>\n",
       "      <td>im getting borderlands murder</td>\n",
       "      <td>-0.6908</td>\n",
       "      <td>negative</td>\n",
       "    </tr>\n",
       "    <tr>\n",
       "      <th>4</th>\n",
       "      <td>im getting into borderlands and i can murder y...</td>\n",
       "      <td>im getting borderlands murder</td>\n",
       "      <td>-0.6908</td>\n",
       "      <td>negative</td>\n",
       "    </tr>\n",
       "  </tbody>\n",
       "</table>\n",
       "</div>"
      ],
      "text/plain": [
       "                                                text  \\\n",
       "0  I am coming to the borders and I will kill you...   \n",
       "1  im getting on borderlands and i will kill you ...   \n",
       "2  im coming on borderlands and i will murder you...   \n",
       "3  im getting on borderlands 2 and i will murder ...   \n",
       "4  im getting into borderlands and i can murder y...   \n",
       "\n",
       "                      clean_text  sentiment_score sentiment_category  \n",
       "0            coming borders kill          -0.6908           negative  \n",
       "1    im getting borderlands kill          -0.6908           negative  \n",
       "2   im coming borderlands murder          -0.6908           negative  \n",
       "3  im getting borderlands murder          -0.6908           negative  \n",
       "4  im getting borderlands murder          -0.6908           negative  "
      ]
     },
     "execution_count": 15,
     "metadata": {},
     "output_type": "execute_result"
    }
   ],
   "source": [
    "from nltk.sentiment.vader import SentimentIntensityAnalyzer\n",
    "\n",
    "sid = SentimentIntensityAnalyzer()\n",
    "\n",
    "# Define a function to get the sentiment score\n",
    "def get_sentiment(text):\n",
    "    scores = sid.polarity_scores(text)\n",
    "    return scores['compound']\n",
    "\n",
    "train_df['sentiment_score'] = train_df['clean_text'].apply(get_sentiment)\n",
    "val_df['sentiment_score'] = val_df['clean_text'].apply(get_sentiment)\n",
    "\n",
    "# Categorize sentiment into positive, negative, and neutral in both datasets\n",
    "train_df['sentiment_category'] = train_df['sentiment_score'].apply(lambda x: 'positive' if x > 0.05 else \n",
    "                                                                   ('negative' if x < -0.05 else 'neutral'))\n",
    "val_df['sentiment_category'] = val_df['sentiment_score'].apply(lambda x: 'positive' if x > 0.05 else \n",
    "                                                               ('negative' if x < -0.05 else 'neutral'))\n",
    "\n",
    "print(\"Training Data with Sentiment Scores:\")\n",
    "train_df[['text', 'clean_text', 'sentiment_score', 'sentiment_category']].head()\n"
   ]
  },
  {
   "cell_type": "code",
   "execution_count": 16,
   "id": "ca764a9a",
   "metadata": {
    "ExecuteTime": {
     "end_time": "2024-08-07T05:50:38.824423Z",
     "start_time": "2024-08-07T05:50:38.796585Z"
    }
   },
   "outputs": [
    {
     "name": "stdout",
     "output_type": "stream",
     "text": [
      "\n",
      "Validation Data with Sentiment Scores:\n"
     ]
    },
    {
     "data": {
      "text/html": [
       "<div>\n",
       "<style scoped>\n",
       "    .dataframe tbody tr th:only-of-type {\n",
       "        vertical-align: middle;\n",
       "    }\n",
       "\n",
       "    .dataframe tbody tr th {\n",
       "        vertical-align: top;\n",
       "    }\n",
       "\n",
       "    .dataframe thead th {\n",
       "        text-align: right;\n",
       "    }\n",
       "</style>\n",
       "<table border=\"1\" class=\"dataframe\">\n",
       "  <thead>\n",
       "    <tr style=\"text-align: right;\">\n",
       "      <th></th>\n",
       "      <th>text</th>\n",
       "      <th>clean_text</th>\n",
       "      <th>sentiment_score</th>\n",
       "      <th>sentiment_category</th>\n",
       "    </tr>\n",
       "  </thead>\n",
       "  <tbody>\n",
       "    <tr>\n",
       "      <th>0</th>\n",
       "      <td>BBC News - Amazon boss Jeff Bezos rejects clai...</td>\n",
       "      <td>bbc news amazon boss jeff bezos rejects claims...</td>\n",
       "      <td>-0.0000</td>\n",
       "      <td>neutral</td>\n",
       "    </tr>\n",
       "    <tr>\n",
       "      <th>1</th>\n",
       "      <td>@Microsoft Why do I pay for WORD when it funct...</td>\n",
       "      <td>pay word functions poorly chromebook</td>\n",
       "      <td>-0.1027</td>\n",
       "      <td>negative</td>\n",
       "    </tr>\n",
       "    <tr>\n",
       "      <th>2</th>\n",
       "      <td>CSGO matchmaking is so full of closet hacking,...</td>\n",
       "      <td>csgo matchmaking full closet hacking truly awf...</td>\n",
       "      <td>-0.0258</td>\n",
       "      <td>neutral</td>\n",
       "    </tr>\n",
       "    <tr>\n",
       "      <th>3</th>\n",
       "      <td>Now the President is slapping Americans in the...</td>\n",
       "      <td>president slapping americans face really commi...</td>\n",
       "      <td>0.3597</td>\n",
       "      <td>positive</td>\n",
       "    </tr>\n",
       "    <tr>\n",
       "      <th>4</th>\n",
       "      <td>Hi @EAHelp I’ve had Madeleine McCann in my cel...</td>\n",
       "      <td>hi ive madeleine mccann cellar past years litt...</td>\n",
       "      <td>-0.4116</td>\n",
       "      <td>negative</td>\n",
       "    </tr>\n",
       "  </tbody>\n",
       "</table>\n",
       "</div>"
      ],
      "text/plain": [
       "                                                text  \\\n",
       "0  BBC News - Amazon boss Jeff Bezos rejects clai...   \n",
       "1  @Microsoft Why do I pay for WORD when it funct...   \n",
       "2  CSGO matchmaking is so full of closet hacking,...   \n",
       "3  Now the President is slapping Americans in the...   \n",
       "4  Hi @EAHelp I’ve had Madeleine McCann in my cel...   \n",
       "\n",
       "                                          clean_text  sentiment_score  \\\n",
       "0  bbc news amazon boss jeff bezos rejects claims...          -0.0000   \n",
       "1               pay word functions poorly chromebook          -0.1027   \n",
       "2  csgo matchmaking full closet hacking truly awf...          -0.0258   \n",
       "3  president slapping americans face really commi...           0.3597   \n",
       "4  hi ive madeleine mccann cellar past years litt...          -0.4116   \n",
       "\n",
       "  sentiment_category  \n",
       "0            neutral  \n",
       "1           negative  \n",
       "2            neutral  \n",
       "3           positive  \n",
       "4           negative  "
      ]
     },
     "execution_count": 16,
     "metadata": {},
     "output_type": "execute_result"
    }
   ],
   "source": [
    "print(\"\\nValidation Data with Sentiment Scores:\")\n",
    "val_df[['text', 'clean_text', 'sentiment_score', 'sentiment_category']].head()\n"
   ]
  },
  {
   "cell_type": "markdown",
   "id": "5cafd932",
   "metadata": {},
   "source": [
    "##### Step 4: Visualization...\n",
    "We'll visualize the sentiment distribution and the sentiment patterns over time"
   ]
  },
  {
   "cell_type": "code",
   "execution_count": 17,
   "id": "3edfdecb",
   "metadata": {
    "ExecuteTime": {
     "end_time": "2024-08-07T05:50:39.140112Z",
     "start_time": "2024-08-07T05:50:38.827427Z"
    }
   },
   "outputs": [
    {
     "data": {
      "image/png": "[encoded data removed]",
      "text/plain": [
       "<Figure size 800x600 with 1 Axes>"
      ]
     },
     "metadata": {},
     "output_type": "display_data"
    },
    {
     "name": "stdout",
     "output_type": "stream",
     "text": [
      "Number of positive: 33898\n",
      "Number of negative: 26724\n",
      "Number of neutral: 14059\n"
     ]
    }
   ],
   "source": [
    "# Sentiment distribution in the training dataset\n",
    "plt.figure(figsize=(8, 6))\n",
    "sentiment_count = train_df['sentiment_category'].value_counts()\n",
    "\n",
    "sns.countplot(data=train_df, x='sentiment_category', palette='viridis')\n",
    "plt.title('Sentiment Distribution in Training Data')\n",
    "plt.xlabel('Sentiment')\n",
    "plt.ylabel('Count')\n",
    "plt.show()\n",
    "\n",
    "print(f\"Number of positive: {sentiment_count['positive']}\")\n",
    "print(f\"Number of negative: {sentiment_count['negative']}\")\n",
    "print(f\"Number of neutral: {sentiment_count['neutral']}\")"
   ]
  },
  {
   "cell_type": "code",
   "execution_count": 18,
   "id": "32a8b83a",
   "metadata": {
    "ExecuteTime": {
     "end_time": "2024-08-07T05:50:39.375641Z",
     "start_time": "2024-08-07T05:50:39.143434Z"
    }
   },
   "outputs": [
    {
     "data": {
      "image/png": "[encoded data removed]",
      "text/plain": [
       "<Figure size 800x600 with 1 Axes>"
      ]
     },
     "metadata": {},
     "output_type": "display_data"
    },
    {
     "name": "stdout",
     "output_type": "stream",
     "text": [
      "Number of positive: 490\n",
      "Number of negative: 396\n",
      "Number of neutral: 113\n"
     ]
    }
   ],
   "source": [
    "# Sentiment distribution in the validation dataset\n",
    "plt.figure(figsize=(8, 6))\n",
    "sentiment_count = val_df['sentiment_category'].value_counts()\n",
    "\n",
    "sns.countplot(data=val_df, x='sentiment_category', palette='viridis')\n",
    "plt.title('Sentiment Distribution in Validation Data')\n",
    "plt.xlabel('Sentiment')\n",
    "plt.ylabel('Count')\n",
    "plt.show()\n",
    "\n",
    "print(f\"Number of positive: {sentiment_count['positive']}\")\n",
    "print(f\"Number of negative: {sentiment_count['negative']}\")\n",
    "print(f\"Number of neutral: {sentiment_count['neutral']}\")"
   ]
  },
  {
   "cell_type": "code",
   "execution_count": 19,
   "id": "71548971",
   "metadata": {
    "ExecuteTime": {
     "end_time": "2024-08-07T05:50:39.407866Z",
     "start_time": "2024-08-07T05:50:39.378779Z"
    }
   },
   "outputs": [],
   "source": [
    "# Training data set\n",
    "entity_sentiment = train_df.groupby('entity')['sentiment_score'].mean().reset_index()\n",
    "\n",
    "entity_sentiment['sentiment_category'] = entity_sentiment['sentiment_score'].apply(lambda x: 'positive' if x > 0.05 else\n",
    "                                                                                   ('negative' if x < -0.05 else 'neutral'))\n",
    "\n"
   ]
  },
  {
   "cell_type": "code",
   "execution_count": 20,
   "id": "6ba143a4",
   "metadata": {
    "ExecuteTime": {
     "end_time": "2024-08-07T05:50:40.445698Z",
     "start_time": "2024-08-07T05:50:39.410503Z"
    }
   },
   "outputs": [
    {
     "data": {
      "image/png": "[encoded data removed]",
      "text/plain": [
       "<Figure size 1200x600 with 1 Axes>"
      ]
     },
     "metadata": {},
     "output_type": "display_data"
    }
   ],
   "source": [
    "# Bar plot of average sentiment scores for each entity using training data\n",
    "\n",
    "palette = {'positive': 'green', 'neutral': 'gray', 'negative': 'red'}\n",
    "\n",
    "plt.figure(figsize=(12, 6))\n",
    "sns.barplot(data=entity_sentiment, x='sentiment_score', y='entity', hue='sentiment_category', dodge=False, palette=palette)\n",
    "plt.title('Average Sentiment Scores by Entity')\n",
    "plt.xlabel('Average Sentiment Score')\n",
    "plt.ylabel('Entity')\n",
    "plt.legend(title='Sentiment Category')\n",
    "plt.show()\n"
   ]
  },
  {
   "cell_type": "code",
   "execution_count": 21,
   "id": "031405bb",
   "metadata": {
    "ExecuteTime": {
     "end_time": "2024-08-07T05:50:40.493010Z",
     "start_time": "2024-08-07T05:50:40.449817Z"
    }
   },
   "outputs": [
    {
     "data": {
      "text/html": [
       "<div>\n",
       "<style scoped>\n",
       "    .dataframe tbody tr th:only-of-type {\n",
       "        vertical-align: middle;\n",
       "    }\n",
       "\n",
       "    .dataframe tbody tr th {\n",
       "        vertical-align: top;\n",
       "    }\n",
       "\n",
       "    .dataframe thead th {\n",
       "        text-align: right;\n",
       "    }\n",
       "</style>\n",
       "<table border=\"1\" class=\"dataframe\">\n",
       "  <thead>\n",
       "    <tr style=\"text-align: right;\">\n",
       "      <th>sentiment_category</th>\n",
       "      <th>entity</th>\n",
       "      <th>negative</th>\n",
       "      <th>neutral</th>\n",
       "      <th>positive</th>\n",
       "    </tr>\n",
       "  </thead>\n",
       "  <tbody>\n",
       "    <tr>\n",
       "      <th>0</th>\n",
       "      <td>Amazon</td>\n",
       "      <td>636</td>\n",
       "      <td>261</td>\n",
       "      <td>1419</td>\n",
       "    </tr>\n",
       "    <tr>\n",
       "      <th>1</th>\n",
       "      <td>ApexLegends</td>\n",
       "      <td>761</td>\n",
       "      <td>507</td>\n",
       "      <td>1108</td>\n",
       "    </tr>\n",
       "    <tr>\n",
       "      <th>2</th>\n",
       "      <td>AssassinsCreed</td>\n",
       "      <td>517</td>\n",
       "      <td>399</td>\n",
       "      <td>1328</td>\n",
       "    </tr>\n",
       "    <tr>\n",
       "      <th>3</th>\n",
       "      <td>Battlefield</td>\n",
       "      <td>1149</td>\n",
       "      <td>303</td>\n",
       "      <td>894</td>\n",
       "    </tr>\n",
       "    <tr>\n",
       "      <th>4</th>\n",
       "      <td>Borderlands</td>\n",
       "      <td>605</td>\n",
       "      <td>385</td>\n",
       "      <td>1295</td>\n",
       "    </tr>\n",
       "  </tbody>\n",
       "</table>\n",
       "</div>"
      ],
      "text/plain": [
       "sentiment_category          entity  negative  neutral  positive\n",
       "0                           Amazon       636      261      1419\n",
       "1                      ApexLegends       761      507      1108\n",
       "2                   AssassinsCreed       517      399      1328\n",
       "3                      Battlefield      1149      303       894\n",
       "4                      Borderlands       605      385      1295"
      ]
     },
     "execution_count": 21,
     "metadata": {},
     "output_type": "execute_result"
    }
   ],
   "source": [
    "# Specifing the average sentiment scores for each entity using training data\n",
    "\n",
    "entity_sentiment_counts = train_df.groupby(['entity', 'sentiment_category']).size().unstack(fill_value=0)\n",
    "\n",
    "entity_sentiment_counts = entity_sentiment_counts.reset_index()                  # Reset the index for plotting\n",
    "entity_sentiment_counts.head()"
   ]
  },
  {
   "cell_type": "code",
   "execution_count": 22,
   "id": "f51a0080",
   "metadata": {
    "ExecuteTime": {
     "end_time": "2024-08-07T05:50:40.508892Z",
     "start_time": "2024-08-07T05:50:40.495907Z"
    }
   },
   "outputs": [],
   "source": [
    "# Validation data set\n",
    "entity_sentiment_ = val_df.groupby('entity')['sentiment_score'].mean().reset_index()\n",
    "\n",
    "entity_sentiment_['sentiment_category'] = entity_sentiment['sentiment_score'].apply(lambda x: 'positive' if x > 0.05 else\n",
    "                                                                                   ('negative' if x < -0.05 else 'neutral'))\n"
   ]
  },
  {
   "cell_type": "code",
   "execution_count": 23,
   "id": "8db997c1",
   "metadata": {
    "ExecuteTime": {
     "end_time": "2024-08-07T05:50:41.430980Z",
     "start_time": "2024-08-07T05:50:40.512164Z"
    }
   },
   "outputs": [
    {
     "data": {
      "image/png": "[encoded data removed]",
      "text/plain": [
       "<Figure size 1200x600 with 1 Axes>"
      ]
     },
     "metadata": {},
     "output_type": "display_data"
    }
   ],
   "source": [
    "# Bar plot of average sentiment scores for each entity using validation data\n",
    "\n",
    "palette = {'positive': 'green', 'neutral': 'gray', 'negative': 'red'}\n",
    "\n",
    "plt.figure(figsize=(12, 6))\n",
    "sns.barplot(data=entity_sentiment_, x='sentiment_score', y='entity', hue='sentiment_category', dodge=False, palette=palette)\n",
    "plt.title('Average Sentiment Scores by Entity')\n",
    "plt.xlabel('Average Sentiment Score')\n",
    "plt.ylabel('Entity')\n",
    "plt.legend(title='Sentiment Category')\n",
    "plt.show()"
   ]
  },
  {
   "cell_type": "code",
   "execution_count": 24,
   "id": "c031a90e",
   "metadata": {
    "ExecuteTime": {
     "end_time": "2024-08-07T05:50:41.462009Z",
     "start_time": "2024-08-07T05:50:41.436289Z"
    }
   },
   "outputs": [
    {
     "data": {
      "text/html": [
       "<div>\n",
       "<style scoped>\n",
       "    .dataframe tbody tr th:only-of-type {\n",
       "        vertical-align: middle;\n",
       "    }\n",
       "\n",
       "    .dataframe tbody tr th {\n",
       "        vertical-align: top;\n",
       "    }\n",
       "\n",
       "    .dataframe thead th {\n",
       "        text-align: right;\n",
       "    }\n",
       "</style>\n",
       "<table border=\"1\" class=\"dataframe\">\n",
       "  <thead>\n",
       "    <tr style=\"text-align: right;\">\n",
       "      <th>sentiment_category</th>\n",
       "      <th>entity</th>\n",
       "      <th>negative</th>\n",
       "      <th>neutral</th>\n",
       "      <th>positive</th>\n",
       "    </tr>\n",
       "  </thead>\n",
       "  <tbody>\n",
       "    <tr>\n",
       "      <th>0</th>\n",
       "      <td>Amazon</td>\n",
       "      <td>9</td>\n",
       "      <td>1</td>\n",
       "      <td>24</td>\n",
       "    </tr>\n",
       "    <tr>\n",
       "      <th>1</th>\n",
       "      <td>ApexLegends</td>\n",
       "      <td>11</td>\n",
       "      <td>8</td>\n",
       "      <td>17</td>\n",
       "    </tr>\n",
       "    <tr>\n",
       "      <th>2</th>\n",
       "      <td>AssassinsCreed</td>\n",
       "      <td>6</td>\n",
       "      <td>7</td>\n",
       "      <td>20</td>\n",
       "    </tr>\n",
       "    <tr>\n",
       "      <th>3</th>\n",
       "      <td>Battlefield</td>\n",
       "      <td>17</td>\n",
       "      <td>1</td>\n",
       "      <td>8</td>\n",
       "    </tr>\n",
       "    <tr>\n",
       "      <th>4</th>\n",
       "      <td>Borderlands</td>\n",
       "      <td>10</td>\n",
       "      <td>0</td>\n",
       "      <td>23</td>\n",
       "    </tr>\n",
       "  </tbody>\n",
       "</table>\n",
       "</div>"
      ],
      "text/plain": [
       "sentiment_category          entity  negative  neutral  positive\n",
       "0                           Amazon         9        1        24\n",
       "1                      ApexLegends        11        8        17\n",
       "2                   AssassinsCreed         6        7        20\n",
       "3                      Battlefield        17        1         8\n",
       "4                      Borderlands        10        0        23"
      ]
     },
     "execution_count": 24,
     "metadata": {},
     "output_type": "execute_result"
    }
   ],
   "source": [
    "# Specifing the average sentiment scores for each entity using validation data\n",
    "\n",
    "entity_sentiment_counts_ = val_df.groupby(['entity', 'sentiment_category']).size().unstack(fill_value=0)\n",
    "\n",
    "entity_sentiment_counts_ = entity_sentiment_counts_.reset_index()                  # Reset the index for plotting\n",
    "entity_sentiment_counts_.head()"
   ]
  },
  {
   "cell_type": "code",
   "execution_count": null,
   "id": "61f36c02",
   "metadata": {},
   "outputs": [],
   "source": []
  }
 ],
 "metadata": {
  "kernelspec": {
   "display_name": "Python 3 (ipykernel)",
   "language": "python",
   "name": "python3"
  },
  "language_info": {
   "codemirror_mode": {
    "name": "ipython",
    "version": 3
   },
   "file_extension": ".py",
   "mimetype": "text/x-python",
   "name": "python",
   "nbconvert_exporter": "python",
   "pygments_lexer": "ipython3",
   "version": "3.10.9"
  }
 },
 "nbformat": 4,
 "nbformat_minor": 5
}
